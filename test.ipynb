{
 "cells": [
  {
   "cell_type": "code",
   "execution_count": 1,
   "metadata": {},
   "outputs": [],
   "source": [
    "from math import erf\n",
    "import numpy as np\n",
    "import matplotlib.pyplot as plt\n",
    "from sympy import erfinv\n",
    "import pandas as pd\n",
    "from Schrage_16807 import *\n"
   ]
  },
  {
   "cell_type": "code",
   "execution_count": 7,
   "metadata": {},
   "outputs": [
    {
     "data": {
      "image/png": "[encoded data removed]",
      "text/plain": [
       "<Figure size 432x288 with 1 Axes>"
      ]
     },
     "metadata": {
      "needs_background": "light"
     },
     "output_type": "display_data"
    }
   ],
   "source": [
    "Lamb = 0.8\n",
    "t = np.linspace(start = 0, stop = 1,num= 1000, endpoint = True)\n",
    "x = t\n",
    "y = Lamb*np.sin(np.pi*t)\n",
    "ax = plt.subplot(111)\n",
    "ax.plot(t,x,'r',label='x')\n",
    "ax.plot(t,y,'b',label=r'$\\lambda$sin($\\pi$t)')\n",
    "ax.set_xlabel(r'$x_n$')\n",
    "ax.set_ylabel(r'$x_{n+1}$')\n",
    "ax.set_title(r'$\\lambda$={}'.format(Lamb))\n",
    "ax.set_xbound(0)\n",
    "ax.set_ybound(0)\n",
    "ax.legend()\n",
    "plt.show()"
   ]
  },
  {
   "cell_type": "code",
   "execution_count": 21,
   "metadata": {},
   "outputs": [
    {
     "name": "stdout",
     "output_type": "stream",
     "text": [
      "[ 0  2  3  4  5  6  7  8  9 10  1]\n"
     ]
    }
   ],
   "source": [
    "a = np.array([1,2,3,4,5,6,7,8,9,10])\n",
    "a[0] = 0\n",
    "a = np.append(a,1)\n",
    "print(a)"
   ]
  },
  {
   "cell_type": "code",
   "execution_count": 23,
   "metadata": {},
   "outputs": [
    {
     "name": "stdout",
     "output_type": "stream",
     "text": [
      "[1, 2, 3, 2, 5]\n"
     ]
    }
   ],
   "source": [
    "size = 5\n",
    "a = [(1,2),(3,2,5)]\n",
    "b = []\n",
    "for s in a:\n",
    "    b += list(s)\n",
    "print(b)"
   ]
  },
  {
   "cell_type": "code",
   "execution_count": 26,
   "metadata": {},
   "outputs": [
    {
     "name": "stdout",
     "output_type": "stream",
     "text": [
      "0.07931\n",
      "0.06711\n",
      "0.01529\n",
      "0.00315\n",
      "0.00057\n",
      "0.00014\n",
      "Feigenbaum\n",
      "1.18179\n",
      "4.38914\n",
      "4.85397\n",
      "5.52632\n",
      "4.07143\n"
     ]
    }
   ],
   "source": [
    "df = pd.read_csv(\"hw16/fork.csv\")\n",
    "lamb = df['lambda']\n",
    "delta_lamb = []\n",
    "for i in range(len(lamb)-1):\n",
    "    delta_lamb.append(lamb[i+1]-lamb[i])\n",
    "    print(\"{:.5f}\".format(delta_lamb[i]))\n",
    "print(\"Feigenbaum\")\n",
    "for i in range(len(delta_lamb)-1):\n",
    "    print(\"{:.5f}\".format(delta_lamb[i]/delta_lamb[i+1]))"
   ]
  },
  {
   "cell_type": "code",
   "execution_count": 34,
   "metadata": {},
   "outputs": [
    {
     "data": {
      "text/plain": [
       "[10, 9, 8, 7, 6, 5, 4, 3, 2, 1, 0]"
      ]
     },
     "execution_count": 34,
     "metadata": {},
     "output_type": "execute_result"
    }
   ],
   "source": [
    "list(range(10,-1,-1))"
   ]
  },
  {
   "cell_type": "code",
   "execution_count": 38,
   "metadata": {},
   "outputs": [
    {
     "name": "stdout",
     "output_type": "stream",
     "text": [
      "<class 'set'>\n",
      "[1, 2, 3, 4, 5]\n"
     ]
    }
   ],
   "source": [
    "a = {5,3,2,1,4}\n",
    "print(type(a))\n",
    "print(sorted(a))"
   ]
  },
  {
   "cell_type": "code",
   "execution_count": 46,
   "metadata": {},
   "outputs": [
    {
     "name": "stdout",
     "output_type": "stream",
     "text": [
      "True\n"
     ]
    }
   ],
   "source": [
    "def twopart(n):\n",
    "    #判断n是否为2的幂\n",
    "    return n&(n-1) == 0\n",
    "\n",
    "print(twopart(16))"
   ]
  },
  {
   "cell_type": "code",
   "execution_count": 68,
   "metadata": {},
   "outputs": [
    {
     "name": "stdout",
     "output_type": "stream",
     "text": [
      "0    0.719802\n",
      "1    0.833231\n",
      "2    0.858620\n",
      "3    0.864182\n",
      "4    0.865512\n",
      "5    0.865605\n",
      "6    0.866612\n",
      "Name: lambda, dtype: float64\n",
      "delta_lambda\n",
      "0.113429\n",
      "0.025389\n",
      "0.005562\n",
      "0.001330\n",
      "0.000093\n",
      "0.001007\n",
      "Feigenbaum\n",
      "4.467643\n",
      "4.564725\n",
      "4.181955\n",
      "14.301075\n",
      "0.092354\n"
     ]
    }
   ],
   "source": [
    "df = pd.read_csv(\"hw16/Feigenbaum_delta.csv\")\n",
    "l =[]\n",
    "T = df[\"T\"]\n",
    "lambs = df[\"lambda\"]\n",
    "print(lambs)\n",
    "delta_lamb = []\n",
    "print(\"delta_lambda\")\n",
    "for i in range(len(lambs)-1):\n",
    "    delta_lamb.append(lambs[i+1]-lambs[i])\n",
    "    print(\"{:.6f}\".format(lambs[i+1]-lambs[i]))\n",
    "print(\"Feigenbaum\")\n",
    "for i in range(len(delta_lamb)-1):\n",
    "    print(\"{:.6f}\".format(delta_lamb[i]/delta_lamb[i+1]))"
   ]
  },
  {
   "cell_type": "code",
   "execution_count": 42,
   "metadata": {},
   "outputs": [
    {
     "data": {
      "text/plain": [
       "True"
      ]
     },
     "execution_count": 42,
     "metadata": {},
     "output_type": "execute_result"
    }
   ],
   "source": [
    "a = np.zeros((2,10))\n",
    "a[0] = np.linspace(0,9,10)\n",
    "a[1] = np.linspace(0,9,10)\n",
    "b=(1<a[0])&(a[1]<5)\n"
   ]
  },
  {
   "cell_type": "code",
   "execution_count": 53,
   "metadata": {},
   "outputs": [
    {
     "data": {
      "text/plain": [
       "2"
      ]
     },
     "execution_count": 53,
     "metadata": {},
     "output_type": "execute_result"
    }
   ],
   "source": [
    "a={(1,2),(3,4),(0,9)}\n",
    "c = np.array(list(a)).transpose()\n",
    "b={(1,2),(3,4)}\n",
    "len(a&b)"
   ]
  },
  {
   "cell_type": "code",
   "execution_count": 5,
   "metadata": {},
   "outputs": [
    {
     "data": {
      "text/plain": [
       "1.5183084494174686"
      ]
     },
     "execution_count": 5,
     "metadata": {},
     "output_type": "execute_result"
    }
   ],
   "source": [
    "import numpy as np\n",
    "L=20\n",
    "s = np.random.uniform(0, 2*np.pi, size=(L, L))\n",
    "s[1,1]"
   ]
  },
  {
   "cell_type": "code",
   "execution_count": 9,
   "metadata": {},
   "outputs": [
    {
     "name": "stdout",
     "output_type": "stream",
     "text": [
      "[-1, 0, 1]\n"
     ]
    }
   ],
   "source": [
    "l = list(range(-1,2))\n",
    "print(l)"
   ]
  },
  {
   "cell_type": "code",
   "execution_count": null,
   "metadata": {},
   "outputs": [],
   "source": []
  }
 ],
 "metadata": {
  "kernelspec": {
   "display_name": "Python 3.9.12 ('base')",
   "language": "python",
   "name": "python3"
  },
  "language_info": {
   "codemirror_mode": {
    "name": "ipython",
    "version": 3
   },
   "file_extension": ".py",
   "mimetype": "text/x-python",
   "name": "python",
   "nbconvert_exporter": "python",
   "pygments_lexer": "ipython3",
   "version": "3.9.12"
  },
  "orig_nbformat": 4,
  "vscode": {
   "interpreter": {
    "hash": "88279d2366fe020547cde40dd65aa0e3aa662a6ec1f3ca12d88834876c85e1a6"
   }
  }
 },
 "nbformat": 4,
 "nbformat_minor": 2
}
