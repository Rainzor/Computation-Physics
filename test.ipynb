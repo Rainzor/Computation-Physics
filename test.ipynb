{
 "cells": [
  {
   "cell_type": "code",
   "execution_count": 1,
   "metadata": {},
   "outputs": [],
   "source": [
    "from audioop import add\n",
    "from math import erf\n",
    "import numpy as np\n",
    "import matplotlib.pyplot as plt\n",
    "from sympy import erfinv\n",
    "import pandas as pd\n"
   ]
  },
  {
   "cell_type": "code",
   "execution_count": 26,
   "metadata": {},
   "outputs": [],
   "source": [
    "score = [np.random.randint(0,10) for i in range(1000)] # 此处随机生成一个数值列表\n",
    "score = pd.Series(score)\n",
    "bins = np.arange(0,11,1)\n",
    "se1 = pd.cut(score, bins)# 统计0-1,1-2依次类推各个区间的数值数量\n",
    "out= pd.value_counts(se1,normalize=True)"
   ]
  },
  {
   "cell_type": "code",
   "execution_count": 30,
   "metadata": {},
   "outputs": [
    {
     "name": "stdout",
     "output_type": "stream",
     "text": [
      "[0.12280702 0.11732456 0.11403509 0.1129386  0.11184211 0.10855263\n",
      " 0.10526316 0.10416667 0.10307018 0.        ]\n",
      "CategoricalIndex([(6, 7], (5, 6], (1, 2], (4, 5], (0, 1], (3, 4], (2, 3],\n",
      "                  (7, 8], (8, 9], (9, 10]],\n",
      "                 categories=[(0, 1], (1, 2], (2, 3], (3, 4], (4, 5], (5, 6], (6, 7], (7, 8], ...], ordered=True, dtype='category')\n",
      "1.0\n"
     ]
    }
   ],
   "source": [
    "print(out.values)\n",
    "print(out.index)\n",
    "print(np.sum(out.values))"
   ]
  },
  {
   "cell_type": "code",
   "execution_count": 27,
   "metadata": {},
   "outputs": [
    {
     "name": "stdout",
     "output_type": "stream",
     "text": [
      "CategoricalIndex([(6, 7], (5, 6], (1, 2], (4, 5], (0, 1], (3, 4], (2, 3],\n",
      "                  (7, 8], (8, 9]],\n",
      "                 categories=[(0, 1], (1, 2], (2, 3], (3, 4], (4, 5], (5, 6], (6, 7], (7, 8], ...], ordered=True, dtype='category')\n",
      "[6.5, 5.5, 1.5, 4.5, 0.5, 3.5, 2.5, 7.5, 8.5]\n"
     ]
    }
   ],
   "source": [
    "index = out.index\n",
    "value = out.values\n",
    "m = [i.mid for i in index[value>0.1]]\n",
    "print(index[value>0.1])\n",
    "print(m)"
   ]
  },
  {
   "cell_type": "code",
   "execution_count": 31,
   "metadata": {},
   "outputs": [
    {
     "data": {
      "text/plain": [
       "1500"
      ]
     },
     "execution_count": 31,
     "metadata": {},
     "output_type": "execute_result"
    }
   ],
   "source": [
    "t = np.arange(0,30,0.02)\n",
    "len(t)"
   ]
  },
  {
   "cell_type": "code",
   "execution_count": null,
   "metadata": {},
   "outputs": [],
   "source": []
  }
 ],
 "metadata": {
  "kernelspec": {
   "display_name": "Python 3.9.12 ('base')",
   "language": "python",
   "name": "python3"
  },
  "language_info": {
   "codemirror_mode": {
    "name": "ipython",
    "version": 3
   },
   "file_extension": ".py",
   "mimetype": "text/x-python",
   "name": "python",
   "nbconvert_exporter": "python",
   "pygments_lexer": "ipython3",
   "version": "3.9.12"
  },
  "orig_nbformat": 4,
  "vscode": {
   "interpreter": {
    "hash": "88279d2366fe020547cde40dd65aa0e3aa662a6ec1f3ca12d88834876c85e1a6"
   }
  }
 },
 "nbformat": 4,
 "nbformat_minor": 2
}
